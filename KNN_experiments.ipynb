{
 "cells": [
  {
   "cell_type": "code",
   "execution_count": 1,
   "metadata": {},
   "outputs": [],
   "source": [
    "import KNN\n",
    "from KNN.nearest_neighbors import KNNClassifier\n",
    "from KNN.cross_validation import knn_cross_val_score\n",
    "from KNN.cross_validation_augmentation import knn_cross_val_score_aug\n",
    "from sklearn.datasets import fetch_openml\n",
    "import matplotlib.pyplot as plt\n",
    "import numpy as np\n",
    "import seaborn as sns\n",
    "from sklearn.metrics import confusion_matrix\n",
    "from collections import Counter\n",
    "from skimage import io\n",
    "from skimage import transform, filters\n",
    "from KNN.image_shift import image_shift\n",
    "from matplotlib import rc\n",
    "rc('font',**{'family':'serif','serif':['Palatino']})\n",
    "plt.rcParams['pdf.fonttype'] = 42"
   ]
  },
  {
   "cell_type": "code",
   "execution_count": 2,
   "metadata": {},
   "outputs": [],
   "source": [
    "mnist = fetch_openml('mnist_784')\n",
    "features = np.random.choice(np.arange(784), 10, replace=False)\n",
    "x_train, x_test, y_train, y_test = mnist.data[0:60000, features], mnist.data[60000:, features], \\\n",
    "                                   mnist.target[0:60000], mnist.target[60000:]"
   ]
  },
  {
   "cell_type": "code",
   "execution_count": 3,
   "metadata": {},
   "outputs": [],
   "source": [
    "knn = KNNClassifier(5, strategy='my_own', metric='euclidean')\n",
    "knn.fit(x_train, y_train)"
   ]
  },
  {
   "cell_type": "code",
   "execution_count": 4,
   "metadata": {},
   "outputs": [
    {
     "name": "stdout",
     "output_type": "stream",
     "text": [
      "Wall time: 6.23 s\n"
     ]
    },
    {
     "data": {
      "text/plain": [
       "array([[   11,    52,    65,    84,    91],\n",
       "       [ 5902,  7920, 18499, 18567, 18615],\n",
       "       [42174, 36558,  8915, 54428,  7896],\n",
       "       ...,\n",
       "       [ 1545, 23529, 37123,  1507,  6235],\n",
       "       [   22,    29,    53,   130,   173],\n",
       "       [  286,  1213,  2523,  4241,  5273]], dtype=int64)"
      ]
     },
     "execution_count": 4,
     "metadata": {},
     "output_type": "execute_result"
    }
   ],
   "source": [
    "%%time\n",
    "\n",
    "knn.find_kneighbors(x_test, return_distance=False)"
   ]
  },
  {
   "cell_type": "code",
   "execution_count": 5,
   "metadata": {},
   "outputs": [],
   "source": [
    "knn = KNNClassifier(5, strategy='brute', metric='euclidean')\n",
    "knn.fit(x_train, y_train)"
   ]
  },
  {
   "cell_type": "code",
   "execution_count": 6,
   "metadata": {},
   "outputs": [
    {
     "name": "stdout",
     "output_type": "stream",
     "text": [
      "Wall time: 6.2 s\n"
     ]
    },
    {
     "data": {
      "text/plain": [
       "array([[13066, 47098,  5065, 17665, 26047],\n",
       "       [50475, 24430,  7920, 55220, 57872],\n",
       "       [42174, 36558,  8915, 54428, 26929],\n",
       "       ...,\n",
       "       [ 1545, 37123, 23529, 22660,  1507],\n",
       "       [28180, 28146, 28194, 50919, 28143],\n",
       "       [28997,  4241, 14339,  1213,   286]], dtype=int64)"
      ]
     },
     "execution_count": 6,
     "metadata": {},
     "output_type": "execute_result"
    }
   ],
   "source": [
    "%%time\n",
    "\n",
    "knn.find_kneighbors(x_test, return_distance=False)"
   ]
  },
  {
   "cell_type": "code",
   "execution_count": 7,
   "metadata": {},
   "outputs": [],
   "source": [
    "knn = KNNClassifier(5, strategy='kd_tree', metric='euclidean')\n",
    "knn.fit(x_train, y_train)"
   ]
  },
  {
   "cell_type": "code",
   "execution_count": 8,
   "metadata": {},
   "outputs": [
    {
     "name": "stdout",
     "output_type": "stream",
     "text": [
      "Wall time: 627 ms\n"
     ]
    },
    {
     "data": {
      "text/plain": [
       "array([[ 2173,  5886, 12081,  1946,  5912],\n",
       "       [26357, 53316, 59040, 20721, 45543],\n",
       "       [42174, 36558, 54428,  8915,  7896],\n",
       "       ...,\n",
       "       [ 1545, 23529, 37123, 38626, 35013],\n",
       "       [38468,  8025, 31100, 16147,  4074],\n",
       "       [ 2523,  1213,  4241, 31686, 18907]], dtype=int64)"
      ]
     },
     "execution_count": 8,
     "metadata": {},
     "output_type": "execute_result"
    }
   ],
   "source": [
    "%%time\n",
    "\n",
    "knn.find_kneighbors(x_test, return_distance=False)"
   ]
  },
  {
   "cell_type": "code",
   "execution_count": 9,
   "metadata": {},
   "outputs": [],
   "source": [
    "knn = KNNClassifier(5, strategy='ball_tree', metric='euclidean')\n",
    "knn.fit(x_train, y_train)"
   ]
  },
  {
   "cell_type": "code",
   "execution_count": 10,
   "metadata": {},
   "outputs": [
    {
     "name": "stdout",
     "output_type": "stream",
     "text": [
      "Wall time: 2.06 s\n"
     ]
    },
    {
     "data": {
      "text/plain": [
       "array([[ 2173,  5886, 12081,  1946,  5912],\n",
       "       [20721, 53316, 26357, 59040, 45543],\n",
       "       [42174, 36558, 54428,  8915, 30281],\n",
       "       ...,\n",
       "       [ 1545, 23529, 37123, 35013, 22660],\n",
       "       [38468,  8025, 31100, 16147,  4074],\n",
       "       [18907,  1213, 31686,  2523,  4241]], dtype=int64)"
      ]
     },
     "execution_count": 10,
     "metadata": {},
     "output_type": "execute_result"
    }
   ],
   "source": [
    "%%time\n",
    "\n",
    "knn.find_kneighbors(x_test, return_distance=False)"
   ]
  },
  {
   "cell_type": "code",
   "execution_count": null,
   "metadata": {},
   "outputs": [],
   "source": []
  },
  {
   "cell_type": "code",
   "execution_count": 11,
   "metadata": {},
   "outputs": [],
   "source": [
    "features = np.random.choice(np.arange(784), 20, replace=False)\n",
    "x_train, x_test, y_train, y_test = mnist.data[0:60000, features], mnist.data[60000:, features], \\\n",
    "                                   mnist.target[0:60000], mnist.target[60000:]"
   ]
  },
  {
   "cell_type": "code",
   "execution_count": 12,
   "metadata": {},
   "outputs": [],
   "source": [
    "knn = KNNClassifier(5, strategy='my_own', metric='euclidean')\n",
    "knn.fit(x_train, y_train)"
   ]
  },
  {
   "cell_type": "code",
   "execution_count": 13,
   "metadata": {},
   "outputs": [
    {
     "name": "stdout",
     "output_type": "stream",
     "text": [
      "Wall time: 6.19 s\n"
     ]
    },
    {
     "data": {
      "text/plain": [
       "array([[48224, 43354, 13416, 14514, 58509],\n",
       "       [41412, 55204, 24524,  4658, 46126],\n",
       "       [44038, 10631, 28110, 40058, 31487],\n",
       "       ...,\n",
       "       [ 6009, 59852, 18345, 42700, 17825],\n",
       "       [ 3952, 52150, 18063, 57462,  7167],\n",
       "       [47584,  4079, 16187,  1363, 48412]], dtype=int64)"
      ]
     },
     "execution_count": 13,
     "metadata": {},
     "output_type": "execute_result"
    }
   ],
   "source": [
    "%%time\n",
    "\n",
    "knn.find_kneighbors(x_test, return_distance=False)"
   ]
  },
  {
   "cell_type": "code",
   "execution_count": 14,
   "metadata": {},
   "outputs": [],
   "source": [
    "knn = KNNClassifier(5, strategy='brute', metric='euclidean')\n",
    "knn.fit(x_train, y_train)"
   ]
  },
  {
   "cell_type": "code",
   "execution_count": 15,
   "metadata": {},
   "outputs": [
    {
     "name": "stdout",
     "output_type": "stream",
     "text": [
      "Wall time: 6.79 s\n"
     ]
    },
    {
     "data": {
      "text/plain": [
       "array([[48224, 43354, 13416, 14514, 58509],\n",
       "       [41412, 55204, 24524,  4658, 46126],\n",
       "       [44038, 10631, 40058, 28110, 31487],\n",
       "       ...,\n",
       "       [ 6009, 59852, 18345, 42700, 17825],\n",
       "       [ 3952, 52150, 18063, 57462,  7167],\n",
       "       [47584,  4079, 16187,  1363, 48412]], dtype=int64)"
      ]
     },
     "execution_count": 15,
     "metadata": {},
     "output_type": "execute_result"
    }
   ],
   "source": [
    "%%time\n",
    "\n",
    "knn.find_kneighbors(x_test, return_distance=False)"
   ]
  },
  {
   "cell_type": "code",
   "execution_count": 16,
   "metadata": {},
   "outputs": [],
   "source": [
    "knn = KNNClassifier(5, strategy='kd_tree', metric='euclidean')\n",
    "knn.fit(x_train, y_train)"
   ]
  },
  {
   "cell_type": "code",
   "execution_count": 17,
   "metadata": {},
   "outputs": [
    {
     "name": "stdout",
     "output_type": "stream",
     "text": [
      "Wall time: 839 ms\n"
     ]
    },
    {
     "data": {
      "text/plain": [
       "array([[48224, 43354, 13416, 14514, 58509],\n",
       "       [41412, 55204, 24524,  4658, 46126],\n",
       "       [44038, 28110, 40058, 10631, 31487],\n",
       "       ...,\n",
       "       [ 6009, 59852, 18345, 42700, 17825],\n",
       "       [ 3952, 52150, 18063, 57462,  7167],\n",
       "       [47584,  4079, 16187,  1363, 48412]], dtype=int64)"
      ]
     },
     "execution_count": 17,
     "metadata": {},
     "output_type": "execute_result"
    }
   ],
   "source": [
    "%%time\n",
    "\n",
    "knn.find_kneighbors(x_test, return_distance=False)"
   ]
  },
  {
   "cell_type": "code",
   "execution_count": 18,
   "metadata": {},
   "outputs": [],
   "source": [
    "knn = KNNClassifier(5, strategy='ball_tree', metric='euclidean')\n",
    "knn.fit(x_train, y_train)"
   ]
  },
  {
   "cell_type": "code",
   "execution_count": 19,
   "metadata": {},
   "outputs": [
    {
     "name": "stdout",
     "output_type": "stream",
     "text": [
      "Wall time: 6.65 s\n"
     ]
    },
    {
     "data": {
      "text/plain": [
       "array([[48224, 43354, 13416, 14514, 58509],\n",
       "       [41412, 55204, 24524,  4658, 46126],\n",
       "       [44038, 28110, 40058, 10631, 31487],\n",
       "       ...,\n",
       "       [ 6009, 59852, 18345, 42700, 17825],\n",
       "       [ 3952, 52150, 18063, 57462,  7167],\n",
       "       [47584,  4079, 16187,  1363, 48412]], dtype=int64)"
      ]
     },
     "execution_count": 19,
     "metadata": {},
     "output_type": "execute_result"
    }
   ],
   "source": [
    "%%time\n",
    "\n",
    "knn.find_kneighbors(x_test, return_distance=False)"
   ]
  },
  {
   "cell_type": "code",
   "execution_count": null,
   "metadata": {},
   "outputs": [],
   "source": []
  },
  {
   "cell_type": "code",
   "execution_count": 20,
   "metadata": {},
   "outputs": [],
   "source": [
    "features = np.random.choice(np.arange(784), 100, replace=False)\n",
    "x_train, x_test, y_train, y_test = mnist.data[0:60000, features], mnist.data[60000:, features], \\\n",
    "                                   mnist.target[0:60000], mnist.target[60000:]"
   ]
  },
  {
   "cell_type": "code",
   "execution_count": 21,
   "metadata": {},
   "outputs": [],
   "source": [
    "knn = KNNClassifier(5, strategy='my_own', metric='euclidean')\n",
    "knn.fit(x_train, y_train)"
   ]
  },
  {
   "cell_type": "code",
   "execution_count": 22,
   "metadata": {},
   "outputs": [
    {
     "name": "stdout",
     "output_type": "stream",
     "text": [
      "Wall time: 5.9 s\n"
     ]
    },
    {
     "data": {
      "text/plain": [
       "array([[ 9444, 53843, 14563, 57204, 17228],\n",
       "       [28882, 16902, 53512, 49160, 31634],\n",
       "       [ 6380, 58741, 44038, 18541, 57761],\n",
       "       ...,\n",
       "       [ 3261, 50284, 58225, 22355,  6949],\n",
       "       [36407, 43508, 47039, 29157, 53992],\n",
       "       [40515, 22424, 56015, 37345, 12959]], dtype=int64)"
      ]
     },
     "execution_count": 22,
     "metadata": {},
     "output_type": "execute_result"
    }
   ],
   "source": [
    "%%time\n",
    "\n",
    "knn.find_kneighbors(x_test, return_distance=False)"
   ]
  },
  {
   "cell_type": "code",
   "execution_count": 23,
   "metadata": {},
   "outputs": [],
   "source": [
    "knn = KNNClassifier(5, strategy='brute', metric='euclidean')\n",
    "knn.fit(x_train, y_train)"
   ]
  },
  {
   "cell_type": "code",
   "execution_count": 24,
   "metadata": {},
   "outputs": [
    {
     "name": "stdout",
     "output_type": "stream",
     "text": [
      "Wall time: 6.82 s\n"
     ]
    },
    {
     "data": {
      "text/plain": [
       "array([[ 9444, 53843, 14563, 57204, 17228],\n",
       "       [28882, 16902, 53512, 49160, 31634],\n",
       "       [ 6380, 58741, 44038, 18541, 57761],\n",
       "       ...,\n",
       "       [ 3261, 50284, 58225, 22355,  6949],\n",
       "       [36407, 43508, 47039, 29157, 53992],\n",
       "       [40515, 22424, 56015, 37345, 12959]], dtype=int64)"
      ]
     },
     "execution_count": 24,
     "metadata": {},
     "output_type": "execute_result"
    }
   ],
   "source": [
    "%%time\n",
    "\n",
    "knn.find_kneighbors(x_test, return_distance=False)"
   ]
  },
  {
   "cell_type": "code",
   "execution_count": 25,
   "metadata": {},
   "outputs": [],
   "source": [
    "knn = KNNClassifier(5, strategy='kd_tree', metric='euclidean')\n",
    "knn.fit(x_train, y_train)"
   ]
  },
  {
   "cell_type": "code",
   "execution_count": 26,
   "metadata": {},
   "outputs": [
    {
     "name": "stdout",
     "output_type": "stream",
     "text": [
      "Wall time: 1min 10s\n"
     ]
    },
    {
     "data": {
      "text/plain": [
       "array([[ 9444, 53843, 14563, 57204, 17228],\n",
       "       [28882, 16902, 53512, 49160, 31634],\n",
       "       [ 6380, 58741, 44038, 18541, 57761],\n",
       "       ...,\n",
       "       [ 3261, 50284, 58225, 22355,  6949],\n",
       "       [36407, 43508, 47039, 29157, 53992],\n",
       "       [40515, 22424, 56015, 37345, 12959]], dtype=int64)"
      ]
     },
     "execution_count": 26,
     "metadata": {},
     "output_type": "execute_result"
    }
   ],
   "source": [
    "%%time\n",
    "\n",
    "knn.find_kneighbors(x_test, return_distance=False)"
   ]
  },
  {
   "cell_type": "code",
   "execution_count": 27,
   "metadata": {},
   "outputs": [],
   "source": [
    "knn = KNNClassifier(5, strategy='ball_tree', metric='euclidean')\n",
    "knn.fit(x_train, y_train)"
   ]
  },
  {
   "cell_type": "code",
   "execution_count": 28,
   "metadata": {},
   "outputs": [
    {
     "name": "stdout",
     "output_type": "stream",
     "text": [
      "Wall time: 1min 15s\n"
     ]
    },
    {
     "data": {
      "text/plain": [
       "array([[ 9444, 53843, 14563, 57204, 17228],\n",
       "       [28882, 16902, 53512, 49160, 31634],\n",
       "       [ 6380, 58741, 44038, 18541, 57761],\n",
       "       ...,\n",
       "       [ 3261, 50284, 58225, 22355,  6949],\n",
       "       [36407, 43508, 47039, 29157, 53992],\n",
       "       [40515, 22424, 56015, 37345, 12959]], dtype=int64)"
      ]
     },
     "execution_count": 28,
     "metadata": {},
     "output_type": "execute_result"
    }
   ],
   "source": [
    "%%time\n",
    "\n",
    "knn.find_kneighbors(x_test, return_distance=False)"
   ]
  },
  {
   "cell_type": "code",
   "execution_count": null,
   "metadata": {},
   "outputs": [],
   "source": []
  },
  {
   "cell_type": "code",
   "execution_count": 29,
   "metadata": {},
   "outputs": [
    {
     "name": "stderr",
     "output_type": "stream",
     "text": [
      "findfont: Font family ['serif'] not found. Falling back to DejaVu Sans.\n",
      "findfont: Font family ['serif'] not found. Falling back to DejaVu Sans.\n",
      "findfont: Font family ['serif'] not found. Falling back to DejaVu Sans.\n",
      "findfont: Font family ['serif'] not found. Falling back to DejaVu Sans.\n"
     ]
    },
    {
     "data": {
      "image/png": "[encoded data removed]",
      "text/plain": [
       "<Figure size 1584x720 with 3 Axes>"
      ]
     },
     "metadata": {
      "needs_background": "light"
     },
     "output_type": "display_data"
    }
   ],
   "source": [
    "fig, axs = plt.subplots(1, 3, figsize=(22, 10))\n",
    "fig.suptitle('Время работы алгоритмов поиска 5 ближайших соседей с подмножествами признаков разного размера', fontsize=25)\n",
    "plt.subplot(131)\n",
    "plt.bar(['my_own', 'brute', 'kd_tree', 'ball_tree'], [5.92, 7.04, 0.925, 3.54], color=['red', 'blue', 'green', 'violet'])\n",
    "plt.title('10 признаков', fontsize=20)\n",
    "plt.tick_params(axis='both', labelsize=16)\n",
    "plt.xlabel('Алгоритм', fontsize=17)\n",
    "plt.ylabel('Время работы, сек', fontsize=17)\n",
    "plt.yticks(np.arange(8))\n",
    "plt.subplot(132)\n",
    "plt.bar(['my_own', 'brute', 'kd_tree', 'ball_tree'], [5.92, 6.67, 2.78, 7.1], color=['red', 'blue', 'green', 'violet'])\n",
    "plt.title('20 признаков', fontsize=20)\n",
    "plt.tick_params(axis='both', labelsize=16)\n",
    "plt.xlabel('Алгоритм', fontsize=17)\n",
    "plt.ylabel('Время работы, сек', fontsize=17)\n",
    "plt.yticks(np.arange(8))\n",
    "plt.subplot(133)\n",
    "plt.bar(['my_own', 'brute', 'kd_tree', 'ball_tree'], [5.87, 6.39, 68, 73], color=['red', 'blue', 'green', 'violet'])\n",
    "plt.title('100 признаков', fontsize=20)\n",
    "plt.tick_params(axis='both', labelsize=16)\n",
    "plt.xlabel('Алгоритм', fontsize=17)\n",
    "plt.ylabel('Время работы, сек', fontsize=17)\n",
    "plt.yticks(np.arange(0, 71, 10))\n",
    "plt.show()"
   ]
  },
  {
   "cell_type": "code",
   "execution_count": 30,
   "metadata": {},
   "outputs": [],
   "source": [
    "fig.savefig('fig1.pdf', format='pdf', dpi=600)"
   ]
  },
  {
   "cell_type": "code",
   "execution_count": null,
   "metadata": {},
   "outputs": [],
   "source": []
  },
  {
   "cell_type": "code",
   "execution_count": null,
   "metadata": {},
   "outputs": [],
   "source": []
  },
  {
   "cell_type": "code",
   "execution_count": 3,
   "metadata": {},
   "outputs": [],
   "source": [
    "x_train, x_test, y_train, y_test = mnist.data[0:60000, :], mnist.data[60000:, :], \\\n",
    "                                   mnist.target[0:60000], mnist.target[60000:]"
   ]
  },
  {
   "cell_type": "code",
   "execution_count": 4,
   "metadata": {},
   "outputs": [
    {
     "name": "stdout",
     "output_type": "stream",
     "text": [
      "Wall time: 2min 33s\n"
     ]
    }
   ],
   "source": [
    "%%time\n",
    "\n",
    "res_dict_euclid = knn_cross_val_score(x_train, y_train, [i for i in range(1, 11)], strategy='my_own', \n",
    "                                      metric='euclidean', test_block_size=5000)"
   ]
  },
  {
   "cell_type": "code",
   "execution_count": 5,
   "metadata": {},
   "outputs": [
    {
     "name": "stdout",
     "output_type": "stream",
     "text": [
      "Wall time: 2min 36s\n"
     ]
    }
   ],
   "source": [
    "%%time\n",
    "\n",
    "res_dict_cosine = knn_cross_val_score(x_train, y_train, [i for i in range(1, 11)], strategy='my_own', \n",
    "                                      metric='cosine', test_block_size=5000)"
   ]
  },
  {
   "cell_type": "code",
   "execution_count": 6,
   "metadata": {},
   "outputs": [
    {
     "data": {
      "text/plain": [
       "{1: array([0.96975, 0.97005, 0.9709 ]),\n",
       " 2: array([0.96975, 0.97005, 0.9709 ]),\n",
       " 3: array([0.97045, 0.97135, 0.9717 ]),\n",
       " 4: array([0.97015, 0.97045, 0.971  ]),\n",
       " 5: array([0.96935, 0.96935, 0.96955]),\n",
       " 6: array([0.9687, 0.9686, 0.9697]),\n",
       " 7: array([0.968  , 0.9676 , 0.96825]),\n",
       " 8: array([0.9669 , 0.96755, 0.9679 ]),\n",
       " 9: array([0.96545, 0.9664 , 0.9672 ]),\n",
       " 10: array([0.9649 , 0.9655 , 0.96715])}"
      ]
     },
     "execution_count": 6,
     "metadata": {},
     "output_type": "execute_result"
    }
   ],
   "source": [
    "res_dict_euclid"
   ]
  },
  {
   "cell_type": "code",
   "execution_count": 7,
   "metadata": {},
   "outputs": [
    {
     "data": {
      "text/plain": [
       "{1: array([0.97385, 0.97365, 0.9721 ]),\n",
       " 2: array([0.97385, 0.97365, 0.9721 ]),\n",
       " 3: array([0.9742, 0.975 , 0.9733]),\n",
       " 4: array([0.9742 , 0.97475, 0.973  ]),\n",
       " 5: array([0.97265, 0.97525, 0.97255]),\n",
       " 6: array([0.97215, 0.97495, 0.9725 ]),\n",
       " 7: array([0.9718, 0.9736, 0.9709]),\n",
       " 8: array([0.97135, 0.9737 , 0.9706 ]),\n",
       " 9: array([0.97   , 0.97255, 0.9695 ]),\n",
       " 10: array([0.97005, 0.9721 , 0.96945])}"
      ]
     },
     "execution_count": 7,
     "metadata": {},
     "output_type": "execute_result"
    }
   ],
   "source": [
    "res_dict_cosine"
   ]
  },
  {
   "cell_type": "code",
   "execution_count": 8,
   "metadata": {},
   "outputs": [
    {
     "data": {
      "text/plain": [
       "array([0.97023333, 0.97023333, 0.97116667, 0.97053333, 0.96941667,\n",
       "       0.969     , 0.96795   , 0.96745   , 0.96635   , 0.96585   ])"
      ]
     },
     "execution_count": 8,
     "metadata": {},
     "output_type": "execute_result"
    }
   ],
   "source": [
    "res_euclid_mean = np.array(list(map(lambda x: res_dict_euclid[x].mean(), res_dict_euclid)))\n",
    "res_euclid_mean"
   ]
  },
  {
   "cell_type": "code",
   "execution_count": 9,
   "metadata": {},
   "outputs": [
    {
     "data": {
      "text/plain": [
       "array([0.9732    , 0.9732    , 0.97416667, 0.97398333, 0.97348333,\n",
       "       0.9732    , 0.9721    , 0.97188333, 0.97068333, 0.97053333])"
      ]
     },
     "execution_count": 9,
     "metadata": {},
     "output_type": "execute_result"
    }
   ],
   "source": [
    "res_cosine_mean = np.array(list(map(lambda x: res_dict_cosine[x].mean(), res_dict_cosine)))\n",
    "res_cosine_mean"
   ]
  },
  {
   "cell_type": "code",
   "execution_count": 10,
   "metadata": {},
   "outputs": [
    {
     "name": "stdout",
     "output_type": "stream",
     "text": [
      "3 3\n"
     ]
    }
   ],
   "source": [
    "print(np.argmax(res_euclid_mean) + 1, np.argmax(res_cosine_mean) + 1)"
   ]
  },
  {
   "cell_type": "code",
   "execution_count": 11,
   "metadata": {},
   "outputs": [
    {
     "name": "stdout",
     "output_type": "stream",
     "text": [
      "0.9711666666666666 0.9741666666666666\n"
     ]
    }
   ],
   "source": [
    "print(np.max(res_euclid_mean), np.max(res_cosine_mean))"
   ]
  },
  {
   "cell_type": "code",
   "execution_count": null,
   "metadata": {},
   "outputs": [],
   "source": []
  },
  {
   "cell_type": "code",
   "execution_count": 12,
   "metadata": {},
   "outputs": [
    {
     "name": "stderr",
     "output_type": "stream",
     "text": [
      "findfont: Font family ['serif'] not found. Falling back to DejaVu Sans.\n",
      "findfont: Font family ['serif'] not found. Falling back to DejaVu Sans.\n",
      "findfont: Font family ['serif'] not found. Falling back to DejaVu Sans.\n"
     ]
    },
    {
     "data": {
      "image/png": "[encoded data removed]",
      "text/plain": [
       "<Figure size 1008x504 with 1 Axes>"
      ]
     },
     "metadata": {
      "needs_background": "light"
     },
     "output_type": "display_data"
    }
   ],
   "source": [
    "fig = plt.figure(figsize=(14, 7))\n",
    "plt.plot(np.arange(1, 11), res_euclid_mean, color='blue', marker='.', ms=10, label='евклидово расстояние')\n",
    "plt.plot(np.arange(1, 11), res_cosine_mean, color='red', marker='*', ms=10, label='косинусное расстояние')\n",
    "plt.title('Точность алгоритма на кросс-валидации, усредненная по 3 фолдам, в зависимости от параметра k', fontsize=18, y=1.1)\n",
    "plt.xlabel('Значение параметра k (количество соседей)', fontsize=14)\n",
    "plt.ylabel('Точность', fontsize=14)\n",
    "plt.xlim([1, 10])\n",
    "plt.ylim([0.962, 0.975])\n",
    "plt.legend()\n",
    "plt.grid()\n",
    "plt.show()"
   ]
  },
  {
   "cell_type": "code",
   "execution_count": 14,
   "metadata": {},
   "outputs": [],
   "source": [
    "fig.savefig('fig2.pdf', format='pdf', dpi=600)"
   ]
  },
  {
   "cell_type": "code",
   "execution_count": null,
   "metadata": {},
   "outputs": [],
   "source": []
  },
  {
   "cell_type": "code",
   "execution_count": null,
   "metadata": {},
   "outputs": [],
   "source": []
  },
  {
   "cell_type": "code",
   "execution_count": 4,
   "metadata": {},
   "outputs": [
    {
     "name": "stdout",
     "output_type": "stream",
     "text": [
      "Wall time: 2min 57s\n"
     ]
    }
   ],
   "source": [
    "%%time\n",
    "\n",
    "res_dict_euclid_weighted = knn_cross_val_score(x_train, y_train, [i for i in range(1, 11)], strategy='my_own', \n",
    "                                               metric='euclidean', weights=True, test_block_size=5000)"
   ]
  },
  {
   "cell_type": "code",
   "execution_count": 16,
   "metadata": {},
   "outputs": [
    {
     "name": "stdout",
     "output_type": "stream",
     "text": [
      "Wall time: 2min 59s\n"
     ]
    }
   ],
   "source": [
    "%%time\n",
    "\n",
    "res_dict_cosine_weighted = knn_cross_val_score(x_train, y_train, [i for i in range(1, 11)], strategy='my_own', \n",
    "                                               metric='cosine', weights=True, test_block_size=5000)"
   ]
  },
  {
   "cell_type": "code",
   "execution_count": 17,
   "metadata": {},
   "outputs": [
    {
     "data": {
      "text/plain": [
       "{1: array([0.9686 , 0.9707 , 0.96955]),\n",
       " 2: array([0.9686 , 0.9707 , 0.96955]),\n",
       " 3: array([0.97045, 0.97125, 0.97025]),\n",
       " 4: array([0.97215, 0.97195, 0.971  ]),\n",
       " 5: array([0.96925, 0.97055, 0.9688 ]),\n",
       " 6: array([0.96995, 0.97115, 0.9697 ]),\n",
       " 7: array([0.96755, 0.96895, 0.96715]),\n",
       " 8: array([0.96735, 0.96965, 0.9676 ]),\n",
       " 9: array([0.9664, 0.9671, 0.9656]),\n",
       " 10: array([0.9665 , 0.96745, 0.96585])}"
      ]
     },
     "execution_count": 17,
     "metadata": {},
     "output_type": "execute_result"
    }
   ],
   "source": [
    "res_dict_euclid_weighted"
   ]
  },
  {
   "cell_type": "code",
   "execution_count": 18,
   "metadata": {},
   "outputs": [
    {
     "data": {
      "text/plain": [
       "{1: array([0.97345, 0.97245, 0.9728 ]),\n",
       " 2: array([0.97345, 0.97245, 0.9728 ]),\n",
       " 3: array([0.97545, 0.97495, 0.9741 ]),\n",
       " 4: array([0.976  , 0.9755 , 0.97455]),\n",
       " 5: array([0.9747, 0.9735, 0.9738]),\n",
       " 6: array([0.97505, 0.9739 , 0.97445]),\n",
       " 7: array([0.97325, 0.9718 , 0.97265]),\n",
       " 8: array([0.9733 , 0.97225, 0.9733 ]),\n",
       " 9: array([0.97265, 0.9704 , 0.97165]),\n",
       " 10: array([0.9723 , 0.97055, 0.97215])}"
      ]
     },
     "execution_count": 18,
     "metadata": {},
     "output_type": "execute_result"
    }
   ],
   "source": [
    "res_dict_cosine_weighted"
   ]
  },
  {
   "cell_type": "code",
   "execution_count": 19,
   "metadata": {},
   "outputs": [
    {
     "data": {
      "text/plain": [
       "array([0.96961667, 0.96961667, 0.97065   , 0.9717    , 0.96953333,\n",
       "       0.97026667, 0.96788333, 0.9682    , 0.96636667, 0.9666    ])"
      ]
     },
     "execution_count": 19,
     "metadata": {},
     "output_type": "execute_result"
    }
   ],
   "source": [
    "res_euclid_mean_weighted = np.array(list(map(lambda x: res_dict_euclid_weighted[x].mean(), res_dict_euclid_weighted)))\n",
    "res_euclid_mean_weighted"
   ]
  },
  {
   "cell_type": "code",
   "execution_count": 20,
   "metadata": {},
   "outputs": [
    {
     "data": {
      "text/plain": [
       "array([0.9729    , 0.9729    , 0.97483333, 0.97535   , 0.974     ,\n",
       "       0.97446667, 0.97256667, 0.97295   , 0.97156667, 0.97166667])"
      ]
     },
     "execution_count": 20,
     "metadata": {},
     "output_type": "execute_result"
    }
   ],
   "source": [
    "res_cosine_mean_weighted = np.array(list(map(lambda x: res_dict_cosine_weighted[x].mean(), res_dict_cosine_weighted)))\n",
    "res_cosine_mean_weighted"
   ]
  },
  {
   "cell_type": "code",
   "execution_count": 21,
   "metadata": {},
   "outputs": [
    {
     "name": "stdout",
     "output_type": "stream",
     "text": [
      "4 4\n"
     ]
    }
   ],
   "source": [
    "print(np.argmax(res_euclid_mean_weighted) + 1, np.argmax(res_cosine_mean_weighted) + 1)"
   ]
  },
  {
   "cell_type": "code",
   "execution_count": 22,
   "metadata": {},
   "outputs": [
    {
     "name": "stdout",
     "output_type": "stream",
     "text": [
      "0.9716999999999999 0.97535\n"
     ]
    }
   ],
   "source": [
    "print(np.max(res_euclid_mean_weighted), np.max(res_cosine_mean_weighted))"
   ]
  },
  {
   "cell_type": "code",
   "execution_count": 23,
   "metadata": {},
   "outputs": [
    {
     "data": {
      "text/plain": [
       "array([False, False, False,  True,  True,  True, False,  True,  True,\n",
       "        True])"
      ]
     },
     "execution_count": 23,
     "metadata": {},
     "output_type": "execute_result"
    }
   ],
   "source": [
    "res_euclid_mean_weighted >= res_euclid_mean"
   ]
  },
  {
   "cell_type": "code",
   "execution_count": 24,
   "metadata": {},
   "outputs": [
    {
     "data": {
      "text/plain": [
       "array([False, False,  True,  True,  True,  True,  True,  True,  True,\n",
       "        True])"
      ]
     },
     "execution_count": 24,
     "metadata": {},
     "output_type": "execute_result"
    }
   ],
   "source": [
    "res_cosine_mean_weighted >= res_cosine_mean"
   ]
  },
  {
   "cell_type": "code",
   "execution_count": null,
   "metadata": {},
   "outputs": [],
   "source": []
  },
  {
   "cell_type": "code",
   "execution_count": 30,
   "metadata": {},
   "outputs": [
    {
     "data": {
      "image/png": "[encoded data removed]",
      "text/plain": [
       "<Figure size 1440x576 with 2 Axes>"
      ]
     },
     "metadata": {
      "needs_background": "light"
     },
     "output_type": "display_data"
    }
   ],
   "source": [
    "fig, axs = plt.subplots(1, 2, figsize=(20, 8))\n",
    "fig.suptitle('Сравнение взвешенного метода KNN с обычным', fontsize=25, y=1.0)\n",
    "plt.subplot(121)\n",
    "plt.plot(np.arange(1, 11), res_euclid_mean, color='blue', marker='.', ms=10, label='не взвешенный')\n",
    "plt.plot(np.arange(1, 11), res_euclid_mean_weighted, color='red', marker='*', ms=10, label='взвешенный')\n",
    "plt.title('Евклидово расстояние', fontsize=20)\n",
    "plt.xlabel('Значение параметра k (количество соседей)', fontsize=16)\n",
    "plt.ylabel('Точность', fontsize=16)\n",
    "plt.xlim([1, 10])\n",
    "plt.ylim([0.964, 0.972])\n",
    "plt.tick_params(axis='both', labelsize=14)\n",
    "plt.legend(prop={'size': 14})\n",
    "plt.grid()\n",
    "plt.subplot(122)\n",
    "plt.plot(np.arange(1, 11), res_cosine_mean, color='blue', marker='.', ms=10, label='не взвешенный')\n",
    "plt.plot(np.arange(1, 11), res_cosine_mean_weighted, color='red', marker='*', ms=10, label='взвешенный')\n",
    "plt.title('Косинусное расстояние', fontsize=20)\n",
    "plt.xlabel('Значение параметра k (количество соседей)', fontsize=16)\n",
    "plt.ylabel('Точность', fontsize=16)\n",
    "plt.xlim([1, 10])\n",
    "plt.ylim([0.968, 0.976])\n",
    "plt.tick_params(axis='both', labelsize=14)\n",
    "plt.legend(prop={'size': 14})\n",
    "plt.grid()\n",
    "plt.show()"
   ]
  },
  {
   "cell_type": "code",
   "execution_count": 31,
   "metadata": {},
   "outputs": [],
   "source": [
    "fig.savefig('fig3.pdf', format='pdf', dpi=600)"
   ]
  },
  {
   "cell_type": "code",
   "execution_count": null,
   "metadata": {},
   "outputs": [],
   "source": []
  },
  {
   "cell_type": "code",
   "execution_count": null,
   "metadata": {},
   "outputs": [],
   "source": []
  },
  {
   "cell_type": "code",
   "execution_count": 33,
   "metadata": {},
   "outputs": [
    {
     "name": "stdout",
     "output_type": "stream",
     "text": [
      "0.9752\n"
     ]
    }
   ],
   "source": [
    "knn = KNNClassifier(k=4, strategy='my_own', metric='cosine', weights=True, test_block_size=5000)\n",
    "knn.fit(x_train, y_train)\n",
    "res = knn.predict(x_test)\n",
    "print((res == y_test).sum() / res.shape[0])"
   ]
  },
  {
   "cell_type": "code",
   "execution_count": 55,
   "metadata": {},
   "outputs": [
    {
     "data": {
      "image/png": "[encoded data removed]",
      "text/plain": [
       "<Figure size 1080x720 with 2 Axes>"
      ]
     },
     "metadata": {
      "needs_background": "light"
     },
     "output_type": "display_data"
    }
   ],
   "source": [
    "cm = confusion_matrix(y_test, res)\n",
    "fig = plt.figure(figsize=(15, 10))\n",
    "sns.set(font_scale=1.6)\n",
    "ax = sns.heatmap(cm, annot=True, cmap='coolwarm', vmin=0, vmax=1200, center=600, linewidths=1, linecolor='black', annot_kws={'size': 16}, fmt='.10g')\n",
    "ax.set_xlabel('Predicted labels', fontsize=18)\n",
    "ax.set_ylabel('True labels', fontsize=18)\n",
    "plt.show()"
   ]
  },
  {
   "cell_type": "code",
   "execution_count": 56,
   "metadata": {},
   "outputs": [],
   "source": [
    "fig.savefig('fig4.pdf', format='pdf', dpi=600)"
   ]
  },
  {
   "cell_type": "code",
   "execution_count": 32,
   "metadata": {},
   "outputs": [
    {
     "data": {
      "text/plain": [
       "Counter({'7': 1028,\n",
       "         '2': 1032,\n",
       "         '1': 1135,\n",
       "         '0': 980,\n",
       "         '4': 982,\n",
       "         '9': 1009,\n",
       "         '5': 892,\n",
       "         '6': 958,\n",
       "         '3': 1010,\n",
       "         '8': 974})"
      ]
     },
     "execution_count": 32,
     "metadata": {},
     "output_type": "execute_result"
    }
   ],
   "source": [
    "Counter(y_test)"
   ]
  },
  {
   "cell_type": "code",
   "execution_count": 57,
   "metadata": {},
   "outputs": [
    {
     "data": {
      "text/plain": [
       "Counter({'4': 36,\n",
       "         '9': 39,\n",
       "         '2': 23,\n",
       "         '7': 30,\n",
       "         '6': 10,\n",
       "         '3': 34,\n",
       "         '8': 38,\n",
       "         '5': 29,\n",
       "         '1': 6,\n",
       "         '0': 3})"
      ]
     },
     "execution_count": 57,
     "metadata": {},
     "output_type": "execute_result"
    }
   ],
   "source": [
    "Counter(y_test[y_test != res])"
   ]
  },
  {
   "cell_type": "code",
   "execution_count": 34,
   "metadata": {},
   "outputs": [
    {
     "data": {
      "image/png": "[encoded data removed]",
      "text/plain": [
       "<Figure size 432x288 with 1 Axes>"
      ]
     },
     "metadata": {
      "needs_background": "light"
     },
     "output_type": "display_data"
    }
   ],
   "source": [
    "fig = plt.figure()\n",
    "ax = plt.imshow(x_test[y_test != res][0].reshape((28, 28)), cmap='gray')\n",
    "plt.grid(False)\n",
    "plt.axis('off')\n",
    "fig.savefig('num1.pdf', format='pdf', dpi=600)"
   ]
  },
  {
   "cell_type": "code",
   "execution_count": 35,
   "metadata": {},
   "outputs": [
    {
     "data": {
      "image/png": "[encoded data removed]",
      "text/plain": [
       "<Figure size 432x288 with 1 Axes>"
      ]
     },
     "metadata": {
      "needs_background": "light"
     },
     "output_type": "display_data"
    }
   ],
   "source": [
    "fig = plt.figure()\n",
    "ax = plt.imshow(x_test[y_test != res][1].reshape((28, 28)), cmap='gray')\n",
    "plt.grid(False)\n",
    "plt.axis('off')\n",
    "fig.savefig('num2.pdf', format='pdf', dpi=600)"
   ]
  },
  {
   "cell_type": "code",
   "execution_count": 36,
   "metadata": {},
   "outputs": [
    {
     "data": {
      "image/png": "[encoded data removed]",
      "text/plain": [
       "<Figure size 432x288 with 1 Axes>"
      ]
     },
     "metadata": {
      "needs_background": "light"
     },
     "output_type": "display_data"
    }
   ],
   "source": [
    "fig = plt.figure()\n",
    "ax = plt.imshow(x_test[y_test != res][2].reshape((28, 28)), cmap='gray')\n",
    "plt.grid(False)\n",
    "plt.axis('off')\n",
    "fig.savefig('num3.pdf', format='pdf', dpi=600)"
   ]
  },
  {
   "cell_type": "code",
   "execution_count": 37,
   "metadata": {},
   "outputs": [
    {
     "data": {
      "image/png": "[encoded data removed]",
      "text/plain": [
       "<Figure size 432x288 with 1 Axes>"
      ]
     },
     "metadata": {
      "needs_background": "light"
     },
     "output_type": "display_data"
    }
   ],
   "source": [
    "fig = plt.figure()\n",
    "ax = plt.imshow(x_test[y_test != res][3].reshape((28, 28)), cmap='gray')\n",
    "plt.grid(False)\n",
    "plt.axis('off')\n",
    "fig.savefig('num4.pdf', format='pdf', dpi=600)"
   ]
  },
  {
   "cell_type": "code",
   "execution_count": 38,
   "metadata": {},
   "outputs": [
    {
     "data": {
      "image/png": "[encoded data removed]",
      "text/plain": [
       "<Figure size 432x288 with 1 Axes>"
      ]
     },
     "metadata": {
      "needs_background": "light"
     },
     "output_type": "display_data"
    }
   ],
   "source": [
    "fig = plt.figure()\n",
    "ax = plt.imshow(x_test[y_test != res][4].reshape((28, 28)), cmap='gray')\n",
    "plt.grid(False)\n",
    "plt.axis('off')\n",
    "fig.savefig('num5.pdf', format='pdf', dpi=600)"
   ]
  },
  {
   "cell_type": "code",
   "execution_count": 39,
   "metadata": {},
   "outputs": [
    {
     "data": {
      "image/png": "[encoded data removed]",
      "text/plain": [
       "<Figure size 432x288 with 1 Axes>"
      ]
     },
     "metadata": {
      "needs_background": "light"
     },
     "output_type": "display_data"
    }
   ],
   "source": [
    "fig = plt.figure()\n",
    "ax = plt.imshow(x_test[y_test != res][100].reshape((28, 28)), cmap='gray')\n",
    "plt.grid(False)\n",
    "plt.axis('off')\n",
    "fig.savefig('num6.pdf', format='pdf', dpi=600)"
   ]
  },
  {
   "cell_type": "code",
   "execution_count": 40,
   "metadata": {},
   "outputs": [
    {
     "data": {
      "image/png": "[encoded data removed]",
      "text/plain": [
       "<Figure size 432x288 with 1 Axes>"
      ]
     },
     "metadata": {
      "needs_background": "light"
     },
     "output_type": "display_data"
    }
   ],
   "source": [
    "fig = plt.figure()\n",
    "ax = plt.imshow(x_test[y_test != res][200].reshape((28, 28)), cmap='gray')\n",
    "plt.grid(False)\n",
    "plt.axis('off')\n",
    "fig.savefig('num7.pdf', format='pdf', dpi=600)"
   ]
  },
  {
   "cell_type": "code",
   "execution_count": 50,
   "metadata": {},
   "outputs": [
    {
     "data": {
      "image/png": "[encoded data removed]",
      "text/plain": [
       "<Figure size 1080x720 with 6 Axes>"
      ]
     },
     "metadata": {
      "needs_background": "light"
     },
     "output_type": "display_data"
    }
   ],
   "source": [
    "fig, axs = plt.subplots(2, 3, figsize=(15, 10))\n",
    "plt.subplot(231)\n",
    "plt.imshow(x_test[y_test != res][0].reshape((28, 28)), cmap='gray')\n",
    "plt.grid(False)\n",
    "plt.axis('off')\n",
    "plt.subplot(232)\n",
    "plt.imshow(x_test[y_test != res][1].reshape((28, 28)), cmap='gray')\n",
    "plt.grid(False)\n",
    "plt.axis('off')\n",
    "plt.subplot(233)\n",
    "plt.imshow(x_test[y_test != res][2].reshape((28, 28)), cmap='gray')\n",
    "plt.grid(False)\n",
    "plt.axis('off')\n",
    "plt.subplot(234)\n",
    "plt.imshow(x_test[y_test != res][3].reshape((28, 28)), cmap='gray')\n",
    "plt.grid(False)\n",
    "plt.axis('off')\n",
    "plt.subplot(235)\n",
    "plt.imshow(x_test[y_test != res][4].reshape((28, 28)), cmap='gray')\n",
    "plt.grid(False)\n",
    "plt.axis('off')\n",
    "plt.subplot(236)\n",
    "plt.imshow(x_test[y_test != res][100].reshape((28, 28)), cmap='gray')\n",
    "plt.grid(False)\n",
    "plt.axis('off')\n",
    "fig.savefig('num_all.pdf', format='pdf', dpi=600)"
   ]
  },
  {
   "cell_type": "code",
   "execution_count": null,
   "metadata": {},
   "outputs": [],
   "source": []
  },
  {
   "cell_type": "code",
   "execution_count": null,
   "metadata": {},
   "outputs": [],
   "source": []
  },
  {
   "cell_type": "code",
   "execution_count": 65,
   "metadata": {},
   "outputs": [],
   "source": [
    "x_train_rot_left = np.apply_along_axis(lambda x: transform.rotate(x.reshape((28, 28)), 5).ravel(), axis=1, arr=x_train)\n",
    "x_train_rot_right = np.apply_along_axis(lambda x: transform.rotate(x.reshape((28, 28)), -5).ravel(), axis=1, arr=x_train)\n",
    "x_train_rot = np.vstack((x_train, x_train_rot_left, x_train_rot_right))\n",
    "y_train_rot = np.tile(y_train, 3)\n",
    "res_dict_rot = knn_cross_val_score(x_train_rot, y_train_rot, [3, 4, 5], metric='cosine', weights=True, test_block_size=2000)"
   ]
  },
  {
   "cell_type": "code",
   "execution_count": 66,
   "metadata": {},
   "outputs": [
    {
     "data": {
      "text/plain": [
       "{3: array([0.99418333, 0.99438333, 0.99408333]),\n",
       " 4: array([0.9936    , 0.9937    , 0.99363333]),\n",
       " 5: array([0.9923    , 0.99221667, 0.9926    ])}"
      ]
     },
     "execution_count": 66,
     "metadata": {},
     "output_type": "execute_result"
    }
   ],
   "source": [
    "res_dict_rot"
   ]
  },
  {
   "cell_type": "code",
   "execution_count": 67,
   "metadata": {},
   "outputs": [
    {
     "name": "stdout",
     "output_type": "stream",
     "text": [
      "0.9942166666666666 0.9936444444444446 0.9923722222222221\n"
     ]
    }
   ],
   "source": [
    "print(res_dict_rot[3].mean(), res_dict_rot[4].mean(), res_dict_rot[5].mean())"
   ]
  },
  {
   "cell_type": "code",
   "execution_count": null,
   "metadata": {},
   "outputs": [],
   "source": []
  },
  {
   "cell_type": "code",
   "execution_count": 68,
   "metadata": {},
   "outputs": [],
   "source": [
    "x_train_rot_left = np.apply_along_axis(lambda x: transform.rotate(x.reshape((28, 28)), 10).ravel(), axis=1, arr=x_train)\n",
    "x_train_rot_right = np.apply_along_axis(lambda x: transform.rotate(x.reshape((28, 28)), -10).ravel(), axis=1, arr=x_train)\n",
    "x_train_rot = np.vstack((x_train, x_train_rot_left, x_train_rot_right))\n",
    "y_train_rot = np.tile(y_train, 3)\n",
    "res_dict_rot = knn_cross_val_score(x_train_rot, y_train_rot, [3, 4, 5], metric='cosine', weights=True, test_block_size=2000)"
   ]
  },
  {
   "cell_type": "code",
   "execution_count": 69,
   "metadata": {},
   "outputs": [
    {
     "data": {
      "text/plain": [
       "{3: array([0.98321667, 0.98433333, 0.98421667]),\n",
       " 4: array([0.98365   , 0.98433333, 0.98455   ]),\n",
       " 5: array([0.98151667, 0.98276667, 0.9825    ])}"
      ]
     },
     "execution_count": 69,
     "metadata": {},
     "output_type": "execute_result"
    }
   ],
   "source": [
    "res_dict_rot"
   ]
  },
  {
   "cell_type": "code",
   "execution_count": 70,
   "metadata": {},
   "outputs": [
    {
     "name": "stdout",
     "output_type": "stream",
     "text": [
      "0.9839222222222221 0.9841777777777777 0.9822611111111111\n"
     ]
    }
   ],
   "source": [
    "print(res_dict_rot[3].mean(), res_dict_rot[4].mean(), res_dict_rot[5].mean())"
   ]
  },
  {
   "cell_type": "code",
   "execution_count": null,
   "metadata": {},
   "outputs": [],
   "source": []
  },
  {
   "cell_type": "code",
   "execution_count": 71,
   "metadata": {},
   "outputs": [],
   "source": [
    "x_train_rot_left = np.apply_along_axis(lambda x: transform.rotate(x.reshape((28, 28)), 15).ravel(), axis=1, arr=x_train)\n",
    "x_train_rot_right = np.apply_along_axis(lambda x: transform.rotate(x.reshape((28, 28)), -15).ravel(), axis=1, arr=x_train)\n",
    "x_train_rot = np.vstack((x_train, x_train_rot_left, x_train_rot_right))\n",
    "y_train_rot = np.tile(y_train, 3)\n",
    "res_dict_rot = knn_cross_val_score(x_train_rot, y_train_rot, [3, 4, 5], metric='cosine', weights=True, test_block_size=2000)"
   ]
  },
  {
   "cell_type": "code",
   "execution_count": 72,
   "metadata": {},
   "outputs": [
    {
     "data": {
      "text/plain": [
       "{3: array([0.97833333, 0.97725   , 0.97775   ]),\n",
       " 4: array([0.97885   , 0.97798333, 0.97833333]),\n",
       " 5: array([0.9771    , 0.97705   , 0.97706667])}"
      ]
     },
     "execution_count": 72,
     "metadata": {},
     "output_type": "execute_result"
    }
   ],
   "source": [
    "res_dict_rot"
   ]
  },
  {
   "cell_type": "code",
   "execution_count": 73,
   "metadata": {},
   "outputs": [
    {
     "name": "stdout",
     "output_type": "stream",
     "text": [
      "0.9777777777777777 0.978388888888889 0.9770722222222221\n"
     ]
    }
   ],
   "source": [
    "print(res_dict_rot[3].mean(), res_dict_rot[4].mean(), res_dict_rot[5].mean())"
   ]
  },
  {
   "cell_type": "code",
   "execution_count": null,
   "metadata": {},
   "outputs": [],
   "source": []
  },
  {
   "cell_type": "code",
   "execution_count": 74,
   "metadata": {},
   "outputs": [],
   "source": [
    "x_train_sh_left_x = np.apply_along_axis(lambda x: image_shift(x.reshape((28, 28)), x=-1).ravel(), axis=1, arr=x_train)\n",
    "x_train_sh_right_x = np.apply_along_axis(lambda x: image_shift(x.reshape((28, 28)), x=1).ravel(), axis=1, arr=x_train)\n",
    "x_train_sh_down_y = np.apply_along_axis(lambda x: image_shift(x.reshape((28, 28)), y=-1).ravel(), axis=1, arr=x_train)\n",
    "x_train_sh_up_y = np.apply_along_axis(lambda x: image_shift(x.reshape((28, 28)), y=1).ravel(), axis=1, arr=x_train)\n",
    "x_train_sh = np.vstack((x_train, x_train_sh_left_x, x_train_sh_right_x, x_train_sh_down_y, x_train_sh_up_y))\n",
    "y_train_sh = np.tile(y_train, 5)\n",
    "res_dict_sh = knn_cross_val_score(x_train_sh, y_train_sh, [3, 4, 5], metric='cosine', weights=True, test_block_size=500)"
   ]
  },
  {
   "cell_type": "code",
   "execution_count": 75,
   "metadata": {},
   "outputs": [
    {
     "data": {
      "text/plain": [
       "{3: array([0.98575, 0.98559, 0.98524]),\n",
       " 4: array([0.9862 , 0.98599, 0.98586]),\n",
       " 5: array([0.98447, 0.98427, 0.98378])}"
      ]
     },
     "execution_count": 75,
     "metadata": {},
     "output_type": "execute_result"
    }
   ],
   "source": [
    "res_dict_sh"
   ]
  },
  {
   "cell_type": "code",
   "execution_count": 76,
   "metadata": {},
   "outputs": [
    {
     "name": "stdout",
     "output_type": "stream",
     "text": [
      "0.9855266666666668 0.9860166666666667 0.9841733333333332\n"
     ]
    }
   ],
   "source": [
    "print(res_dict_sh[3].mean(), res_dict_sh[4].mean(), res_dict_sh[5].mean())"
   ]
  },
  {
   "cell_type": "code",
   "execution_count": null,
   "metadata": {},
   "outputs": [],
   "source": []
  },
  {
   "cell_type": "code",
   "execution_count": 77,
   "metadata": {},
   "outputs": [],
   "source": [
    "x_train_sh_left_x = np.apply_along_axis(lambda x: image_shift(x.reshape((28, 28)), x=-2).ravel(), axis=1, arr=x_train)\n",
    "x_train_sh_right_x = np.apply_along_axis(lambda x: image_shift(x.reshape((28, 28)), x=2).ravel(), axis=1, arr=x_train)\n",
    "x_train_sh_down_y = np.apply_along_axis(lambda x: image_shift(x.reshape((28, 28)), y=-2).ravel(), axis=1, arr=x_train)\n",
    "x_train_sh_up_y = np.apply_along_axis(lambda x: image_shift(x.reshape((28, 28)), y=2).ravel(), axis=1, arr=x_train)\n",
    "x_train_sh = np.vstack((x_train, x_train_sh_left_x, x_train_sh_right_x, x_train_sh_down_y, x_train_sh_up_y))\n",
    "y_train_sh = np.tile(y_train, 5)\n",
    "res_dict_sh = knn_cross_val_score(x_train_sh, y_train_sh, [3, 4, 5], metric='cosine', weights=True, test_block_size=500)"
   ]
  },
  {
   "cell_type": "code",
   "execution_count": 78,
   "metadata": {},
   "outputs": [
    {
     "data": {
      "text/plain": [
       "{3: array([0.97574, 0.97537, 0.9759 ]),\n",
       " 4: array([0.97647, 0.97637, 0.97651]),\n",
       " 5: array([0.97514, 0.97548, 0.97474])}"
      ]
     },
     "execution_count": 78,
     "metadata": {},
     "output_type": "execute_result"
    }
   ],
   "source": [
    "res_dict_sh"
   ]
  },
  {
   "cell_type": "code",
   "execution_count": 79,
   "metadata": {},
   "outputs": [
    {
     "name": "stdout",
     "output_type": "stream",
     "text": [
      "0.97567 0.9764499999999999 0.97512\n"
     ]
    }
   ],
   "source": [
    "print(res_dict_sh[3].mean(), res_dict_sh[4].mean(), res_dict_sh[5].mean())"
   ]
  },
  {
   "cell_type": "code",
   "execution_count": null,
   "metadata": {},
   "outputs": [],
   "source": []
  },
  {
   "cell_type": "code",
   "execution_count": 80,
   "metadata": {},
   "outputs": [],
   "source": [
    "x_train_sh_left_x = np.apply_along_axis(lambda x: image_shift(x.reshape((28, 28)), x=-3).ravel(), axis=1, arr=x_train)\n",
    "x_train_sh_right_x = np.apply_along_axis(lambda x: image_shift(x.reshape((28, 28)), x=3).ravel(), axis=1, arr=x_train)\n",
    "x_train_sh_down_y = np.apply_along_axis(lambda x: image_shift(x.reshape((28, 28)), y=-3).ravel(), axis=1, arr=x_train)\n",
    "x_train_sh_up_y = np.apply_along_axis(lambda x: image_shift(x.reshape((28, 28)), y=3).ravel(), axis=1, arr=x_train)\n",
    "x_train_sh = np.vstack((x_train, x_train_sh_left_x, x_train_sh_right_x, x_train_sh_down_y, x_train_sh_up_y))\n",
    "y_train_sh = np.tile(y_train, 5)\n",
    "res_dict_sh = knn_cross_val_score(x_train_sh, y_train_sh, [3, 4, 5], metric='cosine', weights=True, test_block_size=500)"
   ]
  },
  {
   "cell_type": "code",
   "execution_count": 81,
   "metadata": {},
   "outputs": [
    {
     "data": {
      "text/plain": [
       "{3: array([0.97564, 0.97466, 0.97532]),\n",
       " 4: array([0.97623, 0.97575, 0.97597]),\n",
       " 5: array([0.97465, 0.97384, 0.97406])}"
      ]
     },
     "execution_count": 81,
     "metadata": {},
     "output_type": "execute_result"
    }
   ],
   "source": [
    "res_dict_sh"
   ]
  },
  {
   "cell_type": "code",
   "execution_count": 82,
   "metadata": {},
   "outputs": [
    {
     "name": "stdout",
     "output_type": "stream",
     "text": [
      "0.9752066666666667 0.9759833333333333 0.9741833333333334\n"
     ]
    }
   ],
   "source": [
    "print(res_dict_sh[3].mean(), res_dict_sh[4].mean(), res_dict_sh[5].mean())"
   ]
  },
  {
   "cell_type": "code",
   "execution_count": null,
   "metadata": {},
   "outputs": [],
   "source": []
  },
  {
   "cell_type": "code",
   "execution_count": 83,
   "metadata": {},
   "outputs": [],
   "source": [
    "x_train_bl_tmp = np.apply_along_axis(lambda x: filters.gaussian(x.reshape((28, 28)), sigma=0.5).ravel(), axis=1, arr=x_train)\n",
    "x_train_bl = np.vstack((x_train, x_train_bl_tmp))\n",
    "y_train_bl = np.tile(y_train, 2)\n",
    "res_dict_bl = knn_cross_val_score(x_train_bl, y_train_bl, [3, 4, 5], metric='cosine', weights=True, test_block_size=2000)"
   ]
  },
  {
   "cell_type": "code",
   "execution_count": 84,
   "metadata": {},
   "outputs": [
    {
     "data": {
      "text/plain": [
       "{3: array([0.9915  , 0.99255 , 0.992475]),\n",
       " 4: array([0.99145 , 0.992775, 0.992925]),\n",
       " 5: array([0.991675, 0.992875, 0.992675])}"
      ]
     },
     "execution_count": 84,
     "metadata": {},
     "output_type": "execute_result"
    }
   ],
   "source": [
    "res_dict_bl"
   ]
  },
  {
   "cell_type": "code",
   "execution_count": 85,
   "metadata": {},
   "outputs": [
    {
     "name": "stdout",
     "output_type": "stream",
     "text": [
      "0.992175 0.9923833333333333 0.9924083333333332\n"
     ]
    }
   ],
   "source": [
    "print(res_dict_bl[3].mean(), res_dict_bl[4].mean(), res_dict_bl[5].mean())"
   ]
  },
  {
   "cell_type": "code",
   "execution_count": null,
   "metadata": {},
   "outputs": [],
   "source": []
  },
  {
   "cell_type": "code",
   "execution_count": 86,
   "metadata": {},
   "outputs": [],
   "source": [
    "x_train_bl_tmp = np.apply_along_axis(lambda x: filters.gaussian(x.reshape((28, 28)), sigma=1.0).ravel(), axis=1, arr=x_train)\n",
    "x_train_bl = np.vstack((x_train, x_train_bl_tmp))\n",
    "y_train_bl = np.tile(y_train, 2)\n",
    "res_dict_bl = knn_cross_val_score(x_train_bl, y_train_bl, [3, 4, 5], metric='cosine', weights=True, test_block_size=2000)"
   ]
  },
  {
   "cell_type": "code",
   "execution_count": 87,
   "metadata": {},
   "outputs": [
    {
     "data": {
      "text/plain": [
       "{3: array([0.989275, 0.9887  , 0.988475]),\n",
       " 4: array([0.98855 , 0.98785 , 0.987675]),\n",
       " 5: array([0.986825, 0.986   , 0.986175])}"
      ]
     },
     "execution_count": 87,
     "metadata": {},
     "output_type": "execute_result"
    }
   ],
   "source": [
    "res_dict_bl"
   ]
  },
  {
   "cell_type": "code",
   "execution_count": 88,
   "metadata": {},
   "outputs": [
    {
     "name": "stdout",
     "output_type": "stream",
     "text": [
      "0.9888166666666667 0.9880249999999999 0.9863333333333332\n"
     ]
    }
   ],
   "source": [
    "print(res_dict_bl[3].mean(), res_dict_bl[4].mean(), res_dict_bl[5].mean())"
   ]
  },
  {
   "cell_type": "code",
   "execution_count": null,
   "metadata": {},
   "outputs": [],
   "source": []
  },
  {
   "cell_type": "code",
   "execution_count": 89,
   "metadata": {},
   "outputs": [],
   "source": [
    "x_train_bl_tmp = np.apply_along_axis(lambda x: filters.gaussian(x.reshape((28, 28)), sigma=1.5).ravel(), axis=1, arr=x_train)\n",
    "x_train_bl = np.vstack((x_train, x_train_bl_tmp))\n",
    "y_train_bl = np.tile(y_train, 2)\n",
    "res_dict_bl = knn_cross_val_score(x_train_bl, y_train_bl, [3, 4, 5], metric='cosine', weights=True, test_block_size=2000)"
   ]
  },
  {
   "cell_type": "code",
   "execution_count": 90,
   "metadata": {},
   "outputs": [
    {
     "data": {
      "text/plain": [
       "{3: array([0.98025 , 0.979625, 0.980475]),\n",
       " 4: array([0.980825, 0.980125, 0.981375]),\n",
       " 5: array([0.979125, 0.977675, 0.97955 ])}"
      ]
     },
     "execution_count": 90,
     "metadata": {},
     "output_type": "execute_result"
    }
   ],
   "source": [
    "res_dict_bl"
   ]
  },
  {
   "cell_type": "code",
   "execution_count": 91,
   "metadata": {},
   "outputs": [
    {
     "name": "stdout",
     "output_type": "stream",
     "text": [
      "0.9801166666666665 0.980775 0.9787833333333333\n"
     ]
    }
   ],
   "source": [
    "print(res_dict_bl[3].mean(), res_dict_bl[4].mean(), res_dict_bl[5].mean())"
   ]
  },
  {
   "cell_type": "code",
   "execution_count": null,
   "metadata": {},
   "outputs": [],
   "source": []
  },
  {
   "cell_type": "code",
   "execution_count": 92,
   "metadata": {},
   "outputs": [],
   "source": [
    "x_train_rot_left = np.apply_along_axis(lambda x: transform.rotate(x.reshape((28, 28)), 5).ravel(), axis=1, arr=x_train)\n",
    "x_train_rot_right = np.apply_along_axis(lambda x: transform.rotate(x.reshape((28, 28)), -5).ravel(), axis=1, arr=x_train)\n",
    "x_train_sh_left_x = np.apply_along_axis(lambda x: image_shift(x.reshape((28, 28)), x=-1).ravel(), axis=1, arr=x_train)\n",
    "x_train_sh_right_x = np.apply_along_axis(lambda x: image_shift(x.reshape((28, 28)), x=1).ravel(), axis=1, arr=x_train)\n",
    "x_train_sh_down_y = np.apply_along_axis(lambda x: image_shift(x.reshape((28, 28)), y=-1).ravel(), axis=1, arr=x_train)\n",
    "x_train_sh_up_y = np.apply_along_axis(lambda x: image_shift(x.reshape((28, 28)), y=1).ravel(), axis=1, arr=x_train)\n",
    "x_train_bl_tmp = np.apply_along_axis(lambda x: filters.gaussian(x.reshape((28, 28)), sigma=0.5).ravel(), axis=1, arr=x_train)\n",
    "x_train_mix = np.vstack((x_train, x_train_rot_left, x_train_rot_right, x_train_sh_left_x, x_train_sh_right_x, x_train_sh_down_y, x_train_sh_up_y, x_train_bl_tmp))\n",
    "y_train_mix = np.tile(y_train, 8)\n",
    "res_dict_mix = knn_cross_val_score(x_train_mix, y_train_mix, [3, 4, 5], metric='cosine', weights=True, test_block_size=200)"
   ]
  },
  {
   "cell_type": "code",
   "execution_count": 93,
   "metadata": {},
   "outputs": [
    {
     "data": {
      "text/plain": [
       "{3: array([0.99441875, 0.9942625 , 0.99400625]),\n",
       " 4: array([0.9944625 , 0.994375  , 0.99414375]),\n",
       " 5: array([0.99345625, 0.99333125, 0.9932625 ])}"
      ]
     },
     "execution_count": 93,
     "metadata": {},
     "output_type": "execute_result"
    }
   ],
   "source": [
    "res_dict_mix"
   ]
  },
  {
   "cell_type": "code",
   "execution_count": 94,
   "metadata": {},
   "outputs": [
    {
     "name": "stdout",
     "output_type": "stream",
     "text": [
      "0.9942291666666666 0.9943270833333333 0.9933500000000001\n"
     ]
    }
   ],
   "source": [
    "print(res_dict_mix[3].mean(), res_dict_mix[4].mean(), res_dict_mix[5].mean())"
   ]
  },
  {
   "cell_type": "code",
   "execution_count": null,
   "metadata": {},
   "outputs": [],
   "source": []
  },
  {
   "cell_type": "code",
   "execution_count": 95,
   "metadata": {},
   "outputs": [],
   "source": [
    "x_train_rot_left = np.apply_along_axis(lambda x: transform.rotate(x.reshape((28, 28)), 5).ravel(), axis=1, arr=x_train)\n",
    "x_train_rot_right = np.apply_along_axis(lambda x: transform.rotate(x.reshape((28, 28)), -5).ravel(), axis=1, arr=x_train)\n",
    "x_train_bl_tmp = np.apply_along_axis(lambda x: filters.gaussian(x.reshape((28, 28)), sigma=0.5).ravel(), axis=1, arr=x_train)\n",
    "x_train_mix = np.vstack((x_train, x_train_rot_left, x_train_rot_right, x_train_bl_tmp))\n",
    "y_train_mix = np.tile(y_train, 4)\n",
    "res_dict_mix = knn_cross_val_score(x_train_mix, y_train_mix, [3, 4, 5], metric='cosine', weights=True, test_block_size=1500)"
   ]
  },
  {
   "cell_type": "code",
   "execution_count": 96,
   "metadata": {},
   "outputs": [
    {
     "data": {
      "text/plain": [
       "{3: array([0.9978375, 0.997975 , 0.9973125]),\n",
       " 4: array([0.9972875, 0.997775 , 0.9970875]),\n",
       " 5: array([0.9967   , 0.9971375, 0.9963625])}"
      ]
     },
     "execution_count": 96,
     "metadata": {},
     "output_type": "execute_result"
    }
   ],
   "source": [
    "res_dict_mix"
   ]
  },
  {
   "cell_type": "code",
   "execution_count": 97,
   "metadata": {},
   "outputs": [
    {
     "name": "stdout",
     "output_type": "stream",
     "text": [
      "0.9977083333333333 0.9973833333333334 0.9967333333333334\n"
     ]
    }
   ],
   "source": [
    "print(res_dict_mix[3].mean(), res_dict_mix[4].mean(), res_dict_mix[5].mean())"
   ]
  },
  {
   "cell_type": "code",
   "execution_count": null,
   "metadata": {},
   "outputs": [],
   "source": [
    "# These cross-validations were incorrect"
   ]
  },
  {
   "cell_type": "code",
   "execution_count": null,
   "metadata": {},
   "outputs": [],
   "source": []
  },
  {
   "cell_type": "code",
   "execution_count": 4,
   "metadata": {},
   "outputs": [
    {
     "name": "stdout",
     "output_type": "stream",
     "text": [
      "0.9803833333333333 0.9807 0.9800333333333332\n"
     ]
    }
   ],
   "source": [
    "# rotations 5, blur 0.5\n",
    "cv = knn_cross_val_score_aug(x_train, y_train, [3, 4, 5], strategy='my_own', metric='cosine',\n",
    "                             weights=True, test_block_size=2000)\n",
    "print(cv[3].mean(), cv[4].mean(), cv[5].mean())"
   ]
  },
  {
   "cell_type": "code",
   "execution_count": null,
   "metadata": {},
   "outputs": [],
   "source": []
  },
  {
   "cell_type": "code",
   "execution_count": 4,
   "metadata": {},
   "outputs": [
    {
     "name": "stdout",
     "output_type": "stream",
     "text": [
      "0.9799333333333333 0.9807333333333333 0.9802166666666666\n"
     ]
    }
   ],
   "source": [
    "# rotations 5\n",
    "cv = knn_cross_val_score_aug(x_train, y_train, [3, 4, 5], strategy='my_own', metric='cosine',\n",
    "                             weights=True, test_block_size=2000)\n",
    "print(cv[3].mean(), cv[4].mean(), cv[5].mean())"
   ]
  },
  {
   "cell_type": "code",
   "execution_count": null,
   "metadata": {},
   "outputs": [],
   "source": []
  },
  {
   "cell_type": "code",
   "execution_count": 4,
   "metadata": {},
   "outputs": [
    {
     "name": "stdout",
     "output_type": "stream",
     "text": [
      "0.9800833333333333 0.9806333333333335 0.9797333333333333\n"
     ]
    }
   ],
   "source": [
    "# rotations 10\n",
    "cv = knn_cross_val_score_aug(x_train, y_train, [3, 4, 5], strategy='my_own', metric='cosine',\n",
    "                             weights=True, test_block_size=2000)\n",
    "print(cv[3].mean(), cv[4].mean(), cv[5].mean())"
   ]
  },
  {
   "cell_type": "code",
   "execution_count": null,
   "metadata": {},
   "outputs": [],
   "source": []
  },
  {
   "cell_type": "code",
   "execution_count": 4,
   "metadata": {},
   "outputs": [
    {
     "name": "stdout",
     "output_type": "stream",
     "text": [
      "0.9785833333333334 0.9789833333333333 0.9782000000000001\n"
     ]
    }
   ],
   "source": [
    "# rotations 15\n",
    "cv = knn_cross_val_score_aug(x_train, y_train, [3, 4, 5], strategy='my_own', metric='cosine',\n",
    "                             weights=True, test_block_size=2000)\n",
    "print(cv[3].mean(), cv[4].mean(), cv[5].mean())"
   ]
  },
  {
   "cell_type": "code",
   "execution_count": null,
   "metadata": {},
   "outputs": [],
   "source": []
  },
  {
   "cell_type": "code",
   "execution_count": 4,
   "metadata": {},
   "outputs": [
    {
     "name": "stdout",
     "output_type": "stream",
     "text": [
      "0.9766833333333333 0.9765833333333335 0.9772666666666666\n"
     ]
    }
   ],
   "source": [
    "# blur 0.5\n",
    "cv = knn_cross_val_score_aug(x_train, y_train, [3, 4, 5], strategy='my_own', metric='cosine',\n",
    "                             weights=True, test_block_size=5000)\n",
    "print(cv[3].mean(), cv[4].mean(), cv[5].mean())"
   ]
  },
  {
   "cell_type": "code",
   "execution_count": null,
   "metadata": {},
   "outputs": [],
   "source": []
  },
  {
   "cell_type": "code",
   "execution_count": 4,
   "metadata": {},
   "outputs": [
    {
     "name": "stdout",
     "output_type": "stream",
     "text": [
      "0.9800333333333334 0.9807333333333333 0.9804333333333334\n"
     ]
    }
   ],
   "source": [
    "# blur 1.0\n",
    "cv = knn_cross_val_score_aug(x_train, y_train, [3, 4, 5], strategy='my_own', metric='cosine',\n",
    "                             weights=True, test_block_size=5000)\n",
    "print(cv[3].mean(), cv[4].mean(), cv[5].mean())"
   ]
  },
  {
   "cell_type": "code",
   "execution_count": null,
   "metadata": {},
   "outputs": [],
   "source": []
  },
  {
   "cell_type": "code",
   "execution_count": 4,
   "metadata": {},
   "outputs": [
    {
     "name": "stdout",
     "output_type": "stream",
     "text": [
      "0.9782333333333333 0.9786833333333332 0.9782166666666666\n"
     ]
    }
   ],
   "source": [
    "# blur 1.5\n",
    "cv = knn_cross_val_score_aug(x_train, y_train, [3, 4, 5], strategy='my_own', metric='cosine',\n",
    "                             weights=True, test_block_size=5000)\n",
    "print(cv[3].mean(), cv[4].mean(), cv[5].mean())"
   ]
  },
  {
   "cell_type": "code",
   "execution_count": null,
   "metadata": {},
   "outputs": [],
   "source": []
  },
  {
   "cell_type": "code",
   "execution_count": 4,
   "metadata": {},
   "outputs": [
    {
     "name": "stdout",
     "output_type": "stream",
     "text": [
      "0.9815833333333334 0.9817999999999999 0.9817333333333332\n"
     ]
    }
   ],
   "source": [
    "# shift 1\n",
    "cv = knn_cross_val_score_aug(x_train, y_train, [3, 4, 5], strategy='my_own', metric='cosine',\n",
    "                             weights=True, test_block_size=1000)\n",
    "print(cv[3].mean(), cv[4].mean(), cv[5].mean())"
   ]
  },
  {
   "cell_type": "code",
   "execution_count": null,
   "metadata": {},
   "outputs": [],
   "source": []
  },
  {
   "cell_type": "code",
   "execution_count": 4,
   "metadata": {},
   "outputs": [
    {
     "name": "stdout",
     "output_type": "stream",
     "text": [
      "0.9772 0.9777833333333333 0.9772500000000001\n"
     ]
    }
   ],
   "source": [
    "# shift 2\n",
    "cv = knn_cross_val_score_aug(x_train, y_train, [3, 4, 5], strategy='my_own', metric='cosine',\n",
    "                             weights=True, test_block_size=1000)\n",
    "print(cv[3].mean(), cv[4].mean(), cv[5].mean())"
   ]
  },
  {
   "cell_type": "code",
   "execution_count": null,
   "metadata": {},
   "outputs": [],
   "source": []
  },
  {
   "cell_type": "code",
   "execution_count": 4,
   "metadata": {},
   "outputs": [
    {
     "name": "stdout",
     "output_type": "stream",
     "text": [
      "0.9755333333333333 0.9761833333333333 0.9747666666666667\n"
     ]
    }
   ],
   "source": [
    "# shift 3\n",
    "cv = knn_cross_val_score_aug(x_train, y_train, [3, 4, 5], strategy='my_own', metric='cosine',\n",
    "                             weights=True, test_block_size=1000)\n",
    "print(cv[3].mean(), cv[4].mean(), cv[5].mean())"
   ]
  },
  {
   "cell_type": "code",
   "execution_count": null,
   "metadata": {},
   "outputs": [],
   "source": []
  },
  {
   "cell_type": "code",
   "execution_count": 4,
   "metadata": {},
   "outputs": [
    {
     "name": "stdout",
     "output_type": "stream",
     "text": [
      "0.9831166666666666 0.9838666666666667 0.9832166666666667\n"
     ]
    }
   ],
   "source": [
    "# shift 1, rotation 5\n",
    "cv = knn_cross_val_score_aug(x_train, y_train, [3, 4, 5], strategy='my_own', metric='cosine',\n",
    "                             weights=True, test_block_size=1000)\n",
    "print(cv[3].mean(), cv[4].mean(), cv[5].mean())"
   ]
  },
  {
   "cell_type": "code",
   "execution_count": null,
   "metadata": {},
   "outputs": [],
   "source": []
  },
  {
   "cell_type": "code",
   "execution_count": 4,
   "metadata": {},
   "outputs": [
    {
     "name": "stdout",
     "output_type": "stream",
     "text": [
      "0.9824 0.9826666666666667 0.9825\n"
     ]
    }
   ],
   "source": [
    "# shift 1, blur 1.0\n",
    "cv = knn_cross_val_score_aug(x_train, y_train, [3, 4, 5], strategy='my_own', metric='cosine',\n",
    "                             weights=True, test_block_size=1000)\n",
    "print(cv[3].mean(), cv[4].mean(), cv[5].mean())"
   ]
  },
  {
   "cell_type": "code",
   "execution_count": null,
   "metadata": {},
   "outputs": [],
   "source": []
  },
  {
   "cell_type": "code",
   "execution_count": 4,
   "metadata": {},
   "outputs": [
    {
     "name": "stdout",
     "output_type": "stream",
     "text": [
      "0.9833166666666667 0.9836333333333332 0.9838\n"
     ]
    }
   ],
   "source": [
    "# shift 1, blur 1.0, rotation 5\n",
    "cv = knn_cross_val_score_aug(x_train, y_train, [3, 4, 5], strategy='my_own', metric='cosine',\n",
    "                             weights=True, test_block_size=1000)\n",
    "print(cv[3].mean(), cv[4].mean(), cv[5].mean())"
   ]
  },
  {
   "cell_type": "code",
   "execution_count": null,
   "metadata": {},
   "outputs": [],
   "source": []
  },
  {
   "cell_type": "code",
   "execution_count": 4,
   "metadata": {},
   "outputs": [
    {
     "name": "stdout",
     "output_type": "stream",
     "text": [
      "0.9817499999999999 0.98225 0.9820666666666665\n"
     ]
    }
   ],
   "source": [
    "# blur 1.0, rotation 5\n",
    "cv = knn_cross_val_score_aug(x_train, y_train, [3, 4, 5], strategy='my_own', metric='cosine',\n",
    "                             weights=True, test_block_size=2000)\n",
    "print(cv[3].mean(), cv[4].mean(), cv[5].mean())"
   ]
  },
  {
   "cell_type": "code",
   "execution_count": null,
   "metadata": {},
   "outputs": [],
   "source": []
  },
  {
   "cell_type": "code",
   "execution_count": 4,
   "metadata": {},
   "outputs": [
    {
     "name": "stdout",
     "output_type": "stream",
     "text": [
      "0.9824\n"
     ]
    }
   ],
   "source": [
    "x_train_rot_left = np.apply_along_axis(lambda x: transform.rotate(x.reshape((28, 28)), 5).ravel(), axis=1, arr=x_train)\n",
    "x_train_rot_right = np.apply_along_axis(lambda x: transform.rotate(x.reshape((28, 28)), -5).ravel(), axis=1, arr=x_train)\n",
    "x_train_sh_left_x = np.apply_along_axis(lambda x: image_shift(x.reshape((28, 28)), x=-1).ravel(), axis=1, arr=x_train)\n",
    "x_train_sh_right_x = np.apply_along_axis(lambda x: image_shift(x.reshape((28, 28)), x=1).ravel(), axis=1, arr=x_train)\n",
    "x_train_sh_down_y = np.apply_along_axis(lambda x: image_shift(x.reshape((28, 28)), y=-1).ravel(), axis=1, arr=x_train)\n",
    "x_train_sh_up_y = np.apply_along_axis(lambda x: image_shift(x.reshape((28, 28)), y=1).ravel(), axis=1, arr=x_train)\n",
    "x_train_mix = np.vstack((x_train, x_train_rot_left, x_train_rot_right, x_train_sh_left_x, x_train_sh_right_x, \n",
    "                         x_train_sh_down_y, x_train_sh_up_y))\n",
    "y_train_mix = np.tile(y_train, 7)\n",
    "knn = KNNClassifier(k=4, strategy='my_own', metric='cosine', weights=True, test_block_size=1000)\n",
    "knn.fit(x_train_mix, y_train_mix)\n",
    "res = knn.predict(x_test)\n",
    "print((res == y_test).sum() / res.shape[0])"
   ]
  },
  {
   "cell_type": "code",
   "execution_count": 5,
   "metadata": {},
   "outputs": [
    {
     "data": {
      "image/png": "[encoded data removed]",
      "text/plain": [
       "<Figure size 1080x720 with 2 Axes>"
      ]
     },
     "metadata": {
      "needs_background": "light"
     },
     "output_type": "display_data"
    }
   ],
   "source": [
    "cm = confusion_matrix(y_test, res)\n",
    "fig = plt.figure(figsize=(15, 10))\n",
    "sns.set(font_scale=1.6)\n",
    "ax = sns.heatmap(cm, annot=True, cmap='coolwarm', vmin=0, vmax=1200, center=600, linewidths=1, linecolor='black', annot_kws={'size': 16}, fmt='.10g')\n",
    "ax.set_xlabel('Predicted labels', fontsize=18)\n",
    "ax.set_ylabel('True labels', fontsize=18)\n",
    "plt.show()"
   ]
  },
  {
   "cell_type": "code",
   "execution_count": 6,
   "metadata": {},
   "outputs": [],
   "source": [
    "fig.savefig('fig5_correct.pdf', format='pdf', dpi=600)"
   ]
  },
  {
   "cell_type": "code",
   "execution_count": null,
   "metadata": {},
   "outputs": [],
   "source": []
  },
  {
   "cell_type": "code",
   "execution_count": null,
   "metadata": {},
   "outputs": [],
   "source": []
  },
  {
   "cell_type": "code",
   "execution_count": 98,
   "metadata": {},
   "outputs": [
    {
     "name": "stdout",
     "output_type": "stream",
     "text": [
      "0.978\n"
     ]
    }
   ],
   "source": [
    "x_train_rot_left = np.apply_along_axis(lambda x: transform.rotate(x.reshape((28, 28)), 5).ravel(), axis=1, arr=x_train)\n",
    "x_train_rot_right = np.apply_along_axis(lambda x: transform.rotate(x.reshape((28, 28)), -5).ravel(), axis=1, arr=x_train)\n",
    "x_train_bl_tmp = np.apply_along_axis(lambda x: filters.gaussian(x.reshape((28, 28)), sigma=0.5).ravel(), axis=1, arr=x_train)\n",
    "x_train_mix = np.vstack((x_train, x_train_rot_left, x_train_rot_right, x_train_bl_tmp))\n",
    "y_train_mix = np.tile(y_train, 4)\n",
    "knn = KNNClassifier(k=3, strategy='my_own', metric='cosine', weights=True, test_block_size=1000)\n",
    "knn.fit(x_train_mix, y_train_mix)\n",
    "res = knn.predict(x_test)\n",
    "print((res == y_test).sum() / res.shape[0])"
   ]
  },
  {
   "cell_type": "code",
   "execution_count": null,
   "metadata": {},
   "outputs": [],
   "source": []
  },
  {
   "cell_type": "code",
   "execution_count": 99,
   "metadata": {},
   "outputs": [
    {
     "name": "stdout",
     "output_type": "stream",
     "text": [
      "0.9783\n"
     ]
    }
   ],
   "source": [
    "knn = KNNClassifier(k=4, strategy='my_own', metric='cosine', weights=True, test_block_size=1000)\n",
    "knn.fit(x_train_mix, y_train_mix)\n",
    "res2 = knn.predict(x_test)\n",
    "print((res2 == y_test).sum() / res2.shape[0])"
   ]
  },
  {
   "cell_type": "code",
   "execution_count": null,
   "metadata": {},
   "outputs": [],
   "source": []
  },
  {
   "cell_type": "code",
   "execution_count": 100,
   "metadata": {},
   "outputs": [
    {
     "name": "stdout",
     "output_type": "stream",
     "text": [
      "0.9793\n"
     ]
    }
   ],
   "source": [
    "knn = KNNClassifier(k=5, strategy='my_own', metric='cosine', weights=True, test_block_size=1000)\n",
    "knn.fit(x_train_mix, y_train_mix)\n",
    "res3 = knn.predict(x_test)\n",
    "print((res3 == y_test).sum() / res3.shape[0])"
   ]
  },
  {
   "cell_type": "code",
   "execution_count": null,
   "metadata": {},
   "outputs": [],
   "source": []
  },
  {
   "cell_type": "code",
   "execution_count": 101,
   "metadata": {},
   "outputs": [
    {
     "name": "stdout",
     "output_type": "stream",
     "text": [
      "0.9787\n"
     ]
    }
   ],
   "source": [
    "knn = KNNClassifier(k=6, strategy='my_own', metric='cosine', weights=True, test_block_size=1000)\n",
    "knn.fit(x_train_mix, y_train_mix)\n",
    "res4 = knn.predict(x_test)\n",
    "print((res4 == y_test).sum() / res4.shape[0])"
   ]
  },
  {
   "cell_type": "code",
   "execution_count": null,
   "metadata": {},
   "outputs": [],
   "source": []
  },
  {
   "cell_type": "code",
   "execution_count": 102,
   "metadata": {},
   "outputs": [
    {
     "name": "stdout",
     "output_type": "stream",
     "text": [
      "[[ 978    1    0    0    0    0    0    1    0    0]\n",
      " [   0 1131    3    0    0    0    1    0    0    0]\n",
      " [   7    1 1009    1    1    0    1   10    2    0]\n",
      " [   0    0    1  987    1    7    0    4    6    4]\n",
      " [   2    1    0    0  954    0    5    2    0   18]\n",
      " [   2    1    0   10    2  865    5    1    3    3]\n",
      " [   4    3    0    0    2    3  946    0    0    0]\n",
      " [   1    8    5    1    0    0    0 1004    0    9]\n",
      " [   4    0    2    9    4    4    4    4  940    3]\n",
      " [   1    5    2    5    4    3    1    5    4  979]]\n"
     ]
    }
   ],
   "source": [
    "cm = confusion_matrix(y_test, res3)\n",
    "print(cm)"
   ]
  },
  {
   "cell_type": "code",
   "execution_count": 103,
   "metadata": {},
   "outputs": [
    {
     "data": {
      "image/png": "[encoded data removed]",
      "text/plain": [
       "<Figure size 1080x720 with 2 Axes>"
      ]
     },
     "metadata": {},
     "output_type": "display_data"
    }
   ],
   "source": [
    "fig = plt.figure(figsize=(15, 10))\n",
    "sns.set(font_scale=1.6)\n",
    "ax = sns.heatmap(cm, annot=True, cmap='coolwarm', vmin=0, vmax=1200, center=600, linewidths=1, linecolor='black', annot_kws={'size': 16}, fmt='.10g')\n",
    "ax.set_xlabel('Predicted labels', fontsize=18)\n",
    "ax.set_ylabel('True labels', fontsize=18)\n",
    "plt.show()"
   ]
  },
  {
   "cell_type": "code",
   "execution_count": 104,
   "metadata": {},
   "outputs": [],
   "source": [
    "fig.savefig('fig5.pdf', format='pdf', dpi=600)"
   ]
  },
  {
   "cell_type": "code",
   "execution_count": null,
   "metadata": {},
   "outputs": [],
   "source": []
  },
  {
   "cell_type": "code",
   "execution_count": null,
   "metadata": {},
   "outputs": [],
   "source": []
  },
  {
   "cell_type": "code",
   "execution_count": 105,
   "metadata": {},
   "outputs": [],
   "source": [
    "x_test_rot_left = np.apply_along_axis(lambda x: transform.rotate(x.reshape((28, 28)), 5).ravel(), axis=1, arr=x_test)\n",
    "x_test_rot_right = np.apply_along_axis(lambda x: transform.rotate(x.reshape((28, 28)), -5).ravel(), axis=1, arr=x_test)"
   ]
  },
  {
   "cell_type": "code",
   "execution_count": 106,
   "metadata": {},
   "outputs": [
    {
     "name": "stdout",
     "output_type": "stream",
     "text": [
      "0.9745\n"
     ]
    }
   ],
   "source": [
    "knn = KNNClassifier(k=3, strategy='my_own', metric='cosine', weights=True, test_block_size=5000)\n",
    "knn.fit(x_train, y_train)\n",
    "res_simple = knn.predict(x_test)\n",
    "res_rot_left = knn.predict(x_test_rot_left)\n",
    "res_rot_right = knn.predict(x_test_rot_right)\n",
    "res_blur = knn.predict(x_test_bl)\n",
    "res_matrix = np.vstack((res_simple, res_rot_left, res_rot_right, res_blur))\n",
    "res = np.apply_along_axis(lambda x: np.unique(x, return_counts=True)[0][np.argmax(np.unique(x, return_counts=True)[1])], axis=0, arr=res_matrix)\n",
    "print((res == y_test).sum() / res.shape[0])"
   ]
  },
  {
   "cell_type": "code",
   "execution_count": null,
   "metadata": {},
   "outputs": [],
   "source": []
  },
  {
   "cell_type": "code",
   "execution_count": 107,
   "metadata": {},
   "outputs": [
    {
     "name": "stdout",
     "output_type": "stream",
     "text": [
      "0.9747\n"
     ]
    }
   ],
   "source": [
    "knn = KNNClassifier(k=4, strategy='my_own', metric='cosine', weights=True, test_block_size=5000)\n",
    "knn.fit(x_train, y_train)\n",
    "res_simple = knn.predict(x_test)\n",
    "res_rot_left = knn.predict(x_test_rot_left)\n",
    "res_rot_right = knn.predict(x_test_rot_right)\n",
    "res_blur = knn.predict(x_test_bl)\n",
    "res_matrix = np.vstack((res_simple, res_rot_left, res_rot_right, res_blur))\n",
    "res = np.apply_along_axis(lambda x: np.unique(x, return_counts=True)[0][np.argmax(np.unique(x, return_counts=True)[1])], axis=0, arr=res_matrix)\n",
    "print((res == y_test).sum() / res.shape[0])"
   ]
  },
  {
   "cell_type": "code",
   "execution_count": null,
   "metadata": {},
   "outputs": [],
   "source": []
  },
  {
   "cell_type": "code",
   "execution_count": 108,
   "metadata": {},
   "outputs": [
    {
     "name": "stdout",
     "output_type": "stream",
     "text": [
      "0.9732\n"
     ]
    }
   ],
   "source": [
    "knn = KNNClassifier(k=5, strategy='my_own', metric='cosine', weights=True, test_block_size=5000)\n",
    "knn.fit(x_train, y_train)\n",
    "res_simple = knn.predict(x_test)\n",
    "res_rot_left = knn.predict(x_test_rot_left)\n",
    "res_rot_right = knn.predict(x_test_rot_right)\n",
    "res_blur = knn.predict(x_test_bl)\n",
    "res_matrix = np.vstack((res_simple, res_rot_left, res_rot_right, res_blur))\n",
    "res = np.apply_along_axis(lambda x: np.unique(x, return_counts=True)[0][np.argmax(np.unique(x, return_counts=True)[1])], axis=0, arr=res_matrix)\n",
    "print((res == y_test).sum() / res.shape[0])"
   ]
  },
  {
   "cell_type": "code",
   "execution_count": null,
   "metadata": {},
   "outputs": [],
   "source": []
  },
  {
   "cell_type": "code",
   "execution_count": 109,
   "metadata": {},
   "outputs": [
    {
     "name": "stdout",
     "output_type": "stream",
     "text": [
      "0.973\n"
     ]
    }
   ],
   "source": [
    "knn = KNNClassifier(k=6, strategy='my_own', metric='cosine', weights=True, test_block_size=5000)\n",
    "knn.fit(x_train, y_train)\n",
    "res_simple = knn.predict(x_test)\n",
    "res_rot_left = knn.predict(x_test_rot_left)\n",
    "res_rot_right = knn.predict(x_test_rot_right)\n",
    "res_blur = knn.predict(x_test_bl)\n",
    "res_matrix = np.vstack((res_simple, res_rot_left, res_rot_right, res_blur))\n",
    "res = np.apply_along_axis(lambda x: np.unique(x, return_counts=True)[0][np.argmax(np.unique(x, return_counts=True)[1])], axis=0, arr=res_matrix)\n",
    "print((res == y_test).sum() / res.shape[0])"
   ]
  },
  {
   "cell_type": "code",
   "execution_count": null,
   "metadata": {},
   "outputs": [],
   "source": []
  },
  {
   "cell_type": "code",
   "execution_count": 121,
   "metadata": {},
   "outputs": [
    {
     "data": {
      "image/png": "[encoded data removed]",
      "text/plain": [
       "<Figure size 1080x720 with 2 Axes>"
      ]
     },
     "metadata": {},
     "output_type": "display_data"
    }
   ],
   "source": [
    "knn = KNNClassifier(k=4, strategy='my_own', metric='cosine', weights=True, test_block_size=5000)\n",
    "knn.fit(x_train, y_train)\n",
    "res_simple = knn.predict(x_test)\n",
    "res_rot_left = knn.predict(x_test_rot_left)\n",
    "res_rot_right = knn.predict(x_test_rot_right)\n",
    "res_blur = knn.predict(x_test_bl)\n",
    "res_matrix = np.vstack((res_simple, res_rot_left, res_rot_right, res_blur))\n",
    "res = np.apply_along_axis(lambda x: np.unique(x, return_counts=True)[0][np.argmax(np.unique(x, return_counts=True)[1])], axis=0, arr=res_matrix)\n",
    "cm = confusion_matrix(y_test, res)\n",
    "fig = plt.figure(figsize=(15, 10))\n",
    "sns.set(font_scale=1.6)\n",
    "ax = sns.heatmap(cm, annot=True, cmap='coolwarm', vmin=0, vmax=1200, center=600, linewidths=1, linecolor='black', annot_kws={'size': 16}, fmt='.10g')\n",
    "ax.set_xlabel('Predicted labels', fontsize=18)\n",
    "ax.set_ylabel('True labels', fontsize=18)\n",
    "plt.show()"
   ]
  },
  {
   "cell_type": "code",
   "execution_count": 122,
   "metadata": {},
   "outputs": [],
   "source": [
    "fig.savefig('fig6.pdf', format='pdf', dpi=600)"
   ]
  },
  {
   "cell_type": "code",
   "execution_count": null,
   "metadata": {},
   "outputs": [],
   "source": []
  },
  {
   "cell_type": "code",
   "execution_count": null,
   "metadata": {},
   "outputs": [],
   "source": []
  },
  {
   "cell_type": "code",
   "execution_count": 4,
   "metadata": {},
   "outputs": [],
   "source": [
    "x_test_rot_left = np.apply_along_axis(lambda x: transform.rotate(x.reshape((28, 28)), 5).ravel(), axis=1, arr=x_test)\n",
    "x_test_rot_right = np.apply_along_axis(lambda x: transform.rotate(x.reshape((28, 28)), -5).ravel(), axis=1, arr=x_test)\n",
    "x_test_sh_left_x = np.apply_along_axis(lambda x: image_shift(x.reshape((28, 28)), x=-1).ravel(), axis=1, arr=x_test)\n",
    "x_test_sh_right_x = np.apply_along_axis(lambda x: image_shift(x.reshape((28, 28)), x=1).ravel(), axis=1, arr=x_test)\n",
    "x_test_sh_down_y = np.apply_along_axis(lambda x: image_shift(x.reshape((28, 28)), y=-1).ravel(), axis=1, arr=x_test)\n",
    "x_test_sh_up_y = np.apply_along_axis(lambda x: image_shift(x.reshape((28, 28)), y=1).ravel(), axis=1, arr=x_test)"
   ]
  },
  {
   "cell_type": "code",
   "execution_count": 5,
   "metadata": {},
   "outputs": [
    {
     "name": "stdout",
     "output_type": "stream",
     "text": [
      "0.9763\n"
     ]
    }
   ],
   "source": [
    "knn = KNNClassifier(k=4, strategy='my_own', metric='cosine', weights=True, test_block_size=5000)\n",
    "knn.fit(x_train, y_train)\n",
    "res_simple = knn.predict(x_test)\n",
    "res_rot_left = knn.predict(x_test_rot_left)\n",
    "res_rot_right = knn.predict(x_test_rot_right)\n",
    "res_left_x = knn.predict(x_test_sh_left_x)\n",
    "res_right_x = knn.predict(x_test_sh_right_x)\n",
    "res_down_y = knn.predict(x_test_sh_down_y)\n",
    "res_up_y = knn.predict(x_test_sh_up_y)\n",
    "res_matrix = np.vstack((res_simple, res_rot_left, res_rot_right, res_left_x, res_right_x, res_down_y, res_up_y))\n",
    "res = np.apply_along_axis(lambda x: np.unique(x, return_counts=True)[0][np.argmax(np.unique(x, return_counts=True)[1])], axis=0, arr=res_matrix)\n",
    "print((res == y_test).sum() / res.shape[0])"
   ]
  },
  {
   "cell_type": "code",
   "execution_count": 6,
   "metadata": {},
   "outputs": [
    {
     "data": {
      "image/png": "[encoded data removed]",
      "text/plain": [
       "<Figure size 1080x720 with 2 Axes>"
      ]
     },
     "metadata": {
      "needs_background": "light"
     },
     "output_type": "display_data"
    }
   ],
   "source": [
    "cm = confusion_matrix(y_test, res)\n",
    "fig = plt.figure(figsize=(15, 10))\n",
    "sns.set(font_scale=1.6)\n",
    "ax = sns.heatmap(cm, annot=True, cmap='coolwarm', vmin=0, vmax=1200, center=600, linewidths=1, linecolor='black', annot_kws={'size': 16}, fmt='.10g')\n",
    "ax.set_xlabel('Predicted labels', fontsize=18)\n",
    "ax.set_ylabel('True labels', fontsize=18)\n",
    "plt.show()"
   ]
  },
  {
   "cell_type": "code",
   "execution_count": 7,
   "metadata": {},
   "outputs": [],
   "source": [
    "fig.savefig('fig6_correct.pdf', format='pdf', dpi=600)"
   ]
  },
  {
   "cell_type": "code",
   "execution_count": null,
   "metadata": {},
   "outputs": [],
   "source": []
  }
 ],
 "metadata": {
  "kernelspec": {
   "display_name": "Python 3",
   "language": "python",
   "name": "python3"
  },
  "language_info": {
   "codemirror_mode": {
    "name": "ipython",
    "version": 3
   },
   "file_extension": ".py",
   "mimetype": "text/x-python",
   "name": "python",
   "nbconvert_exporter": "python",
   "pygments_lexer": "ipython3",
   "version": "3.8.5"
  }
 },
 "nbformat": 4,
 "nbformat_minor": 4
}
